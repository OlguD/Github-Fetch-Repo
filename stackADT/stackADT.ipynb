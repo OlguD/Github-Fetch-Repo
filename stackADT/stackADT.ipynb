{
 "cells": [
  {
   "cell_type": "code",
   "execution_count": 38,
   "id": "9ce7f0a0",
   "metadata": {},
   "outputs": [],
   "source": [
    "class Stack:\n",
    "    def __init__(self):\n",
    "        self.stack = []\n",
    "        \n",
    "    def __len__(self):\n",
    "        return len(self.stack)\n",
    "    \n",
    "    def __str__(self):\n",
    "        if not self.isEmpty:\n",
    "            return \"--Stack is empty\"\n",
    "\n",
    "        return self.stack\n",
    "    \n",
    "    def __repr__(self):\n",
    "        return str(self.__str__())\n",
    "    \n",
    "    def push(self, item):\n",
    "        self.stack.append(item)\n",
    "    \n",
    "    def remove(self, item):\n",
    "        if self.binarySearch(item):\n",
    "            self.stack.remove(item)\n",
    "            \n",
    "        else:\n",
    "            return \"--Item not found\"\n",
    "    \n",
    "    def isEmpty(self):\n",
    "        if len(self.stack) == 0:\n",
    "            return True\n",
    "\n",
    "        return False\n",
    "\n",
    "    def binarySearch(self, item):\n",
    "        low = 0\n",
    "        high = len(self.stack)\n",
    "        \n",
    "        while low <= high:\n",
    "            mid = ( low + high ) // 2\n",
    "            if self.stack[mid] == item:\n",
    "                return True\n",
    "            \n",
    "            elif self.stack[mid] < item:\n",
    "                low = mid + 1\n",
    "            else:\n",
    "                high = mid - 1\n",
    "                \n",
    "        return False"
   ]
  },
  {
   "cell_type": "code",
   "execution_count": 39,
   "id": "b2f03520",
   "metadata": {},
   "outputs": [
    {
     "name": "stdout",
     "output_type": "stream",
     "text": [
      "PASS\n"
     ]
    }
   ],
   "source": [
    "##\n",
    "## TEST CASE 1\n",
    "##\n",
    "\n",
    "s = Stack()\n",
    "s.push(\"Apple\")\n",
    "s.push(\"Widows\")\n",
    "try: \n",
    "    assert s.stack == ['Apple', 'Widows']\n",
    "    print(\"PASS\")\n",
    "except:\n",
    "    print(\"FAILED\")"
   ]
  },
  {
   "cell_type": "code",
   "execution_count": 40,
   "id": "7e0a2b77",
   "metadata": {},
   "outputs": [
    {
     "name": "stdout",
     "output_type": "stream",
     "text": [
      "PASS\n"
     ]
    }
   ],
   "source": [
    "##\n",
    "## TEST CASE 2\n",
    "##\n",
    "s1 = Stack()\n",
    "s1.push(1)\n",
    "s1.push(2)\n",
    "s1.push(3)\n",
    "s1.push(4)\n",
    "\n",
    "try:\n",
    "    assert s1.binarySearch(2) == True\n",
    "    #assert s1.binarySearch(5) == False\n",
    "    print(\"PASS\")\n",
    "    \n",
    "except:\n",
    "    print(\"Failed\")"
   ]
  },
  {
   "cell_type": "code",
   "execution_count": 42,
   "id": "d255b831",
   "metadata": {},
   "outputs": [
    {
     "name": "stdout",
     "output_type": "stream",
     "text": [
      "--Old stack [1, 3, 4]\n",
      "PASS\n",
      "--Returning new stack [1, 3, 4]\n"
     ]
    }
   ],
   "source": [
    "##\n",
    "## TEST CASE 3\n",
    "##\n",
    "print(f\"--Old stack {s1.stack}\")\n",
    "s1.remove(2)\n",
    "try:\n",
    "    assert s1.binarySearch(2) == False\n",
    "    print(\"PASS\")\n",
    "    print(f\"--Returning new stack {s1.stack}\")\n",
    "    \n",
    "except:\n",
    "    print(\"FAILED\")"
   ]
  },
  {
   "cell_type": "code",
   "execution_count": null,
   "id": "f7cff8bb",
   "metadata": {},
   "outputs": [],
   "source": []
  }
 ],
 "metadata": {
  "kernelspec": {
   "display_name": "Python 3.10.6 64-bit",
   "language": "python",
   "name": "python3"
  },
  "language_info": {
   "codemirror_mode": {
    "name": "ipython",
    "version": 3
   },
   "file_extension": ".py",
   "mimetype": "text/x-python",
   "name": "python",
   "nbconvert_exporter": "python",
   "pygments_lexer": "ipython3",
   "version": "3.10.6"
  },
  "vscode": {
   "interpreter": {
    "hash": "aee8b7b246df8f9039afb4144a1f6fd8d2ca17a180786b69acc140d282b71a49"
   }
  }
 },
 "nbformat": 4,
 "nbformat_minor": 5
}
